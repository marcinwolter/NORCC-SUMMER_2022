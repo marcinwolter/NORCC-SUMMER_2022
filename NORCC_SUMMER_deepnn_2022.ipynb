{
  "nbformat": 4,
  "nbformat_minor": 0,
  "metadata": {
    "colab": {
      "name": "NORCC-SUMMER_deepnn_2022.ipynb",
      "provenance": [],
      "authorship_tag": "ABX9TyPHJqNtlVo8aULailc3QR/4",
      "include_colab_link": true
    },
    "kernelspec": {
      "name": "python3",
      "display_name": "Python 3"
    },
    "language_info": {
      "name": "python"
    }
  },
  "cells": [
    {
      "cell_type": "markdown",
      "metadata": {
        "id": "view-in-github",
        "colab_type": "text"
      },
      "source": [
        "<a href=\"https://colab.research.google.com/github/marcinwolter/NORCC-SUMMER_2022/blob/main/NORCC_SUMMER_deepnn_2022.ipynb\" target=\"_parent\"><img src=\"https://colab.research.google.com/assets/colab-badge.svg\" alt=\"Open In Colab\"/></a>"
      ]
    },
    {
      "cell_type": "markdown",
      "source": [
        "#**<font color='green'>Machine Learning and Deep Neural Networks**\n",
        "*1st Summer School for young researcher of the Norwegian Centre for CERN-related Research*\n",
        "<br><br>\n",
        "\n",
        "**Marcin Wolter**<br>\n",
        "\n",
        "\n",
        "*Institute of Nuclear Physics PAN, Cracow, Poland*\n",
        "\n",
        "<br><br>\n",
        "*1 July 2022*"
      ],
      "metadata": {
        "id": "ROHdVYBr58Xq"
      }
    },
    {
      "cell_type": "markdown",
      "source": [
        ""
      ],
      "metadata": {
        "id": "seOItrkH7YH5"
      }
    }
  ]
}