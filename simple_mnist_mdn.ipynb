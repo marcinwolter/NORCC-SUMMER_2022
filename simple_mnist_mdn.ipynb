{
  "nbformat": 4,
  "nbformat_minor": 0,
  "metadata": {
    "colab": {
      "name": "simple_mnist_mdn",
      "provenance": [],
      "collapsed_sections": [],
      "toc_visible": true,
      "include_colab_link": true
    },
    "kernelspec": {
      "display_name": "Python 3",
      "language": "python",
      "name": "python3"
    },
    "language_info": {
      "codemirror_mode": {
        "name": "ipython",
        "version": 3
      },
      "file_extension": ".py",
      "mimetype": "text/x-python",
      "name": "python",
      "nbconvert_exporter": "python",
      "pygments_lexer": "ipython3",
      "version": "3.7.0"
    },
    "accelerator": "GPU"
  },
  "cells": [
    {
      "cell_type": "markdown",
      "metadata": {
        "id": "view-in-github",
        "colab_type": "text"
      },
      "source": [
        "<a href=\"https://colab.research.google.com/github/marcinwolter/NORCC-SUMMER_2022/blob/main/simple_mnist_mdn.ipynb\" target=\"_parent\"><img src=\"https://colab.research.google.com/assets/colab-badge.svg\" alt=\"Open In Colab\"/></a>"
      ]
    },
    {
      "cell_type": "markdown",
      "metadata": {
        "id": "fmh6SmeFajVS"
      },
      "source": [
        "# Simple MNIST dense net with Mixture Density Network\n",
        "\n",
        "Using on:\n",
        "https://keras.io/examples/vision/mnist_convnet/ "
      ]
    },
    {
      "cell_type": "markdown",
      "metadata": {
        "id": "-Jvn9yhlajWW"
      },
      "source": [
        "## Setup"
      ]
    },
    {
      "cell_type": "code",
      "metadata": {
        "id": "yjwP9GSZajWi"
      },
      "source": [
        "import numpy as np\n",
        "from tensorflow import keras\n",
        "from tensorflow.keras import layers\n",
        "\n",
        "import matplotlib.pyplot as plt\n"
      ],
      "execution_count": 1,
      "outputs": []
    },
    {
      "cell_type": "markdown",
      "metadata": {
        "id": "wlM6l6cCajWt"
      },
      "source": [
        "## Prepare the data"
      ]
    },
    {
      "cell_type": "code",
      "metadata": {
        "id": "8G4owrCqajWz"
      },
      "source": [
        "\n",
        "def prepare_data(x_train, y_train, x_test, y_test,num_classes):\n",
        "  #Select 2 classes\n",
        "  N_CLASSES = num_classes\n",
        "\n",
        "  indices = np.where(y_train < N_CLASSES) # if few classes needed\n",
        "  indices = indices[0]\n",
        "  np.random.shuffle(indices)\n",
        "  x_train = x_train[indices]\n",
        "  y_train = y_train[indices]\n",
        "\n",
        "  indices = np.where(y_test < N_CLASSES) # if few  classes only\n",
        "  indices = indices[0]\n",
        "  np.random.shuffle(indices)\n",
        "  x_test = x_test[indices]\n",
        "  y_test = y_test[indices]\n",
        "\n",
        "  # Scale images to the [0, 1] range\n",
        "  x_train = x_train.astype(\"float32\") / 255\n",
        "  x_test = x_test.astype(\"float32\") / 255\n",
        "  # Make sure images have shape (28, 28, 1)\n",
        "  x_train = np.expand_dims(x_train, -1)\n",
        "  x_test = np.expand_dims(x_test, -1)\n",
        "  print(\"x_train shape:\", x_train.shape)\n",
        "  print(x_train.shape[0], \"train samples\")\n",
        "  print(x_test.shape[0], \"test samples\")\n",
        "\n",
        "\n",
        "  # convert class vectors to binary class matrices\n",
        "  y_train = keras.utils.to_categorical(y_train, num_classes)\n",
        "  y_test = keras.utils.to_categorical(y_test, num_classes)\n",
        "  \n",
        "  return x_train, y_train, x_test, y_test"
      ],
      "execution_count": 2,
      "outputs": []
    },
    {
      "cell_type": "code",
      "metadata": {
        "id": "gTz24B7dL82L",
        "outputId": "62f9ccd5-264e-4f54-dd4d-2a0571a6952d",
        "colab": {
          "base_uri": "https://localhost:8080/"
        }
      },
      "source": [
        "# Model / data parameters\n",
        "num_classes = 10\n",
        "input_shape = (28, 28, 1)\n",
        "\n",
        "# the data, split between train and test sets\n",
        "(x_train, y_train), (x_test, y_test) = keras.datasets.mnist.load_data()\n",
        "\n",
        "x_train, y_train, x_test, y_test = prepare_data(x_train, y_train, x_test, y_test,num_classes)"
      ],
      "execution_count": 3,
      "outputs": [
        {
          "output_type": "stream",
          "name": "stdout",
          "text": [
            "x_train shape: (60000, 28, 28, 1)\n",
            "60000 train samples\n",
            "10000 test samples\n"
          ]
        }
      ]
    },
    {
      "cell_type": "markdown",
      "metadata": {
        "id": "vTwL6goAYZ36"
      },
      "source": [
        "# **Install keras-mdn-layer**"
      ]
    },
    {
      "cell_type": "code",
      "metadata": {
        "id": "xemf-rMdbFos",
        "colab": {
          "base_uri": "https://localhost:8080/"
        },
        "outputId": "e228abd2-fc5a-4b58-be85-4ce3fb0b8e9f"
      },
      "source": [
        "! pip install keras-mdn-layer\n",
        "import mdn"
      ],
      "execution_count": 4,
      "outputs": [
        {
          "output_type": "stream",
          "name": "stdout",
          "text": [
            "Looking in indexes: https://pypi.org/simple, https://us-python.pkg.dev/colab-wheels/public/simple/\n",
            "Requirement already satisfied: keras-mdn-layer in /usr/local/lib/python3.7/dist-packages (0.3.0)\n"
          ]
        }
      ]
    },
    {
      "cell_type": "markdown",
      "metadata": {
        "id": "rzjY4snPYihC"
      },
      "source": [
        "Parameters for MDN"
      ]
    },
    {
      "cell_type": "code",
      "metadata": {
        "id": "o_NeXX2IbOts"
      },
      "source": [
        "N_HIDDEN = 64  # number of hidden units in the Dense layer\n",
        "N_MIXES = 1  # number of mixture components\n",
        "OUTPUT_DIMS = num_classes  # number of real-values predicted by each mixture component\n"
      ],
      "execution_count": 5,
      "outputs": []
    },
    {
      "cell_type": "markdown",
      "metadata": {
        "id": "kpTxuNkXajW7"
      },
      "source": [
        "## Build the model"
      ]
    },
    {
      "cell_type": "code",
      "metadata": {
        "id": "d4b1oZ0vajXB",
        "colab": {
          "base_uri": "https://localhost:8080/"
        },
        "outputId": "db1bf8ee-9104-4a7e-8357-0b592a51724a"
      },
      "source": [
        "model = keras.Sequential()\n",
        "model.add(keras.Input(shape=input_shape))\n",
        "model.add(layers.Flatten())\n",
        "model.add(layers.Dense(N_HIDDEN, activation=\"relu\"))\n",
        "model.add(layers.Dropout(0.2))\n",
        "model.add(layers.Dense(N_HIDDEN, activation=\"relu\"))\n",
        "model.add(layers.Dropout(0.2))\n",
        "model.add(layers.Dense(N_HIDDEN, activation=\"relu\"))\n",
        "model.add(layers.Dropout(0.2))\n",
        "# Here comes the MDN layer\n",
        "model.add(mdn.MDN(OUTPUT_DIMS, N_MIXES))\n",
        "\n",
        "model.summary()"
      ],
      "execution_count": 6,
      "outputs": [
        {
          "output_type": "stream",
          "name": "stdout",
          "text": [
            "Model: \"sequential\"\n",
            "_________________________________________________________________\n",
            " Layer (type)                Output Shape              Param #   \n",
            "=================================================================\n",
            " flatten (Flatten)           (None, 784)               0         \n",
            "                                                                 \n",
            " dense (Dense)               (None, 64)                50240     \n",
            "                                                                 \n",
            " dropout (Dropout)           (None, 64)                0         \n",
            "                                                                 \n",
            " dense_1 (Dense)             (None, 64)                4160      \n",
            "                                                                 \n",
            " dropout_1 (Dropout)         (None, 64)                0         \n",
            "                                                                 \n",
            " dense_2 (Dense)             (None, 64)                4160      \n",
            "                                                                 \n",
            " dropout_2 (Dropout)         (None, 64)                0         \n",
            "                                                                 \n",
            " mdn (MDN)                   (None, 21)                1365      \n",
            "                                                                 \n",
            "=================================================================\n",
            "Total params: 59,925\n",
            "Trainable params: 59,925\n",
            "Non-trainable params: 0\n",
            "_________________________________________________________________\n"
          ]
        }
      ]
    },
    {
      "cell_type": "markdown",
      "metadata": {
        "id": "HvJmnod6ajXE"
      },
      "source": [
        "## Train the model"
      ]
    },
    {
      "cell_type": "code",
      "metadata": {
        "id": "eHglMbLhajXI",
        "colab": {
          "base_uri": "https://localhost:8080/"
        },
        "outputId": "4a023a3d-ed2c-4e52-8c35-2a62f0b75f2b"
      },
      "source": [
        "batch_size = 128\n",
        "epochs = 100\n",
        "\n",
        "# This was for normal dense network\n",
        "#model.compile(loss=\"categorical_crossentropy\", optimizer=\"adam\", metrics=[\"accuracy\"])\n",
        "model.compile(loss=mdn.get_mixture_loss_func(OUTPUT_DIMS,N_MIXES), optimizer=keras.optimizers.Adam())\n",
        "\n",
        "\n",
        "history = model.fit(x_train, y_train, batch_size=batch_size, epochs=epochs, validation_data=(x_test, y_test)) #validation_split=0.1)"
      ],
      "execution_count": 12,
      "outputs": [
        {
          "output_type": "stream",
          "name": "stdout",
          "text": [
            "Epoch 1/100\n",
            "469/469 [==============================] - 3s 5ms/step - loss: -11.8537 - val_loss: -20.5013\n",
            "Epoch 2/100\n",
            "469/469 [==============================] - 2s 5ms/step - loss: -17.8583 - val_loss: -21.2000\n",
            "Epoch 3/100\n",
            "469/469 [==============================] - 2s 4ms/step - loss: -18.2785 - val_loss: -20.2971\n",
            "Epoch 4/100\n",
            "469/469 [==============================] - 2s 4ms/step - loss: -17.9567 - val_loss: -20.3507\n",
            "Epoch 5/100\n",
            "469/469 [==============================] - 2s 4ms/step - loss: -17.1249 - val_loss: -20.1135\n",
            "Epoch 6/100\n",
            "469/469 [==============================] - 2s 4ms/step - loss: -16.1603 - val_loss: -13.7714\n",
            "Epoch 7/100\n",
            "469/469 [==============================] - 2s 4ms/step - loss: -16.0987 - val_loss: -19.3718\n",
            "Epoch 8/100\n",
            "469/469 [==============================] - 2s 5ms/step - loss: -17.0548 - val_loss: -19.0493\n",
            "Epoch 9/100\n",
            "469/469 [==============================] - 2s 4ms/step - loss: -17.1189 - val_loss: -18.4185\n",
            "Epoch 10/100\n",
            "469/469 [==============================] - 2s 5ms/step - loss: -16.9206 - val_loss: -21.6591\n",
            "Epoch 11/100\n",
            "469/469 [==============================] - 2s 4ms/step - loss: -16.0808 - val_loss: -15.5054\n",
            "Epoch 12/100\n",
            "469/469 [==============================] - 2s 4ms/step - loss: -15.8693 - val_loss: -18.9615\n",
            "Epoch 13/100\n",
            "469/469 [==============================] - 2s 4ms/step - loss: -15.6280 - val_loss: -19.1956\n",
            "Epoch 14/100\n",
            "469/469 [==============================] - 2s 4ms/step - loss: -16.8169 - val_loss: -19.4068\n",
            "Epoch 15/100\n",
            "469/469 [==============================] - 2s 4ms/step - loss: -17.1070 - val_loss: -17.2340\n",
            "Epoch 16/100\n",
            "469/469 [==============================] - 2s 4ms/step - loss: -16.9152 - val_loss: -20.6281\n",
            "Epoch 17/100\n",
            "469/469 [==============================] - 2s 5ms/step - loss: -18.7432 - val_loss: -20.5457\n",
            "Epoch 18/100\n",
            "469/469 [==============================] - 2s 4ms/step - loss: -18.2160 - val_loss: -20.1536\n",
            "Epoch 19/100\n",
            "469/469 [==============================] - 2s 5ms/step - loss: -19.2312 - val_loss: -22.3089\n",
            "Epoch 20/100\n",
            "469/469 [==============================] - 2s 5ms/step - loss: -19.4993 - val_loss: -22.9778\n",
            "Epoch 21/100\n",
            "469/469 [==============================] - 2s 5ms/step - loss: -19.4642 - val_loss: -20.9170\n",
            "Epoch 22/100\n",
            "469/469 [==============================] - 2s 5ms/step - loss: -20.4421 - val_loss: -19.6855\n",
            "Epoch 23/100\n",
            "469/469 [==============================] - 2s 5ms/step - loss: -20.7884 - val_loss: -21.2076\n",
            "Epoch 24/100\n",
            "469/469 [==============================] - 2s 4ms/step - loss: -21.5007 - val_loss: -20.2019\n",
            "Epoch 25/100\n",
            "469/469 [==============================] - 2s 5ms/step - loss: -21.5255 - val_loss: -20.4875\n",
            "Epoch 26/100\n",
            "469/469 [==============================] - 2s 4ms/step - loss: -20.6571 - val_loss: -22.8445\n",
            "Epoch 27/100\n",
            "469/469 [==============================] - 2s 4ms/step - loss: -19.4741 - val_loss: -22.1281\n",
            "Epoch 28/100\n",
            "469/469 [==============================] - 2s 5ms/step - loss: -21.5482 - val_loss: -22.4517\n",
            "Epoch 29/100\n",
            "469/469 [==============================] - 2s 4ms/step - loss: -21.1470 - val_loss: -22.4856\n",
            "Epoch 30/100\n",
            "469/469 [==============================] - 2s 4ms/step - loss: -19.0715 - val_loss: -20.6627\n",
            "Epoch 31/100\n",
            "469/469 [==============================] - 2s 5ms/step - loss: -20.5247 - val_loss: -21.9452\n",
            "Epoch 32/100\n",
            "469/469 [==============================] - 2s 4ms/step - loss: -21.4788 - val_loss: -21.6652\n",
            "Epoch 33/100\n",
            "469/469 [==============================] - 2s 4ms/step - loss: -22.3260 - val_loss: -21.0091\n",
            "Epoch 34/100\n",
            "469/469 [==============================] - 2s 4ms/step - loss: -17.6970 - val_loss: -19.3352\n",
            "Epoch 35/100\n",
            "469/469 [==============================] - 2s 4ms/step - loss: -20.3290 - val_loss: -20.5047\n",
            "Epoch 36/100\n",
            "469/469 [==============================] - 2s 5ms/step - loss: -22.2388 - val_loss: -19.4545\n",
            "Epoch 37/100\n",
            "469/469 [==============================] - 2s 4ms/step - loss: -21.2840 - val_loss: -19.3500\n",
            "Epoch 38/100\n",
            "469/469 [==============================] - 2s 4ms/step - loss: -21.7817 - val_loss: -22.7675\n",
            "Epoch 39/100\n",
            "469/469 [==============================] - 2s 4ms/step - loss: -22.9417 - val_loss: -22.3368\n",
            "Epoch 40/100\n",
            "469/469 [==============================] - 2s 5ms/step - loss: -20.5935 - val_loss: -15.8979\n",
            "Epoch 41/100\n",
            "469/469 [==============================] - 2s 5ms/step - loss: -19.9420 - val_loss: -21.5356\n",
            "Epoch 42/100\n",
            "469/469 [==============================] - 2s 4ms/step - loss: -22.4279 - val_loss: -18.6766\n",
            "Epoch 43/100\n",
            "469/469 [==============================] - 2s 5ms/step - loss: -21.3333 - val_loss: -18.1463\n",
            "Epoch 44/100\n",
            "469/469 [==============================] - 2s 4ms/step - loss: -21.5346 - val_loss: -21.2308\n",
            "Epoch 45/100\n",
            "469/469 [==============================] - 2s 4ms/step - loss: -23.2114 - val_loss: -19.1627\n",
            "Epoch 46/100\n",
            "469/469 [==============================] - 2s 4ms/step - loss: -22.8381 - val_loss: -17.4285\n",
            "Epoch 47/100\n",
            "469/469 [==============================] - 2s 4ms/step - loss: -21.1009 - val_loss: -18.2054\n",
            "Epoch 48/100\n",
            "469/469 [==============================] - 2s 4ms/step - loss: -22.7401 - val_loss: -20.8689\n",
            "Epoch 49/100\n",
            "469/469 [==============================] - 2s 4ms/step - loss: -23.2458 - val_loss: -20.5664\n",
            "Epoch 50/100\n",
            "469/469 [==============================] - 2s 4ms/step - loss: -23.5254 - val_loss: -19.8763\n",
            "Epoch 51/100\n",
            "469/469 [==============================] - 2s 5ms/step - loss: -22.5847 - val_loss: -15.2861\n",
            "Epoch 52/100\n",
            "469/469 [==============================] - 2s 4ms/step - loss: -23.5404 - val_loss: -10.0178\n",
            "Epoch 53/100\n",
            "469/469 [==============================] - 2s 5ms/step - loss: -20.6038 - val_loss: -16.8468\n",
            "Epoch 54/100\n",
            "469/469 [==============================] - 2s 4ms/step - loss: -23.6717 - val_loss: -19.6655\n",
            "Epoch 55/100\n",
            "469/469 [==============================] - 2s 5ms/step - loss: -22.6292 - val_loss: -14.0139\n",
            "Epoch 56/100\n",
            "469/469 [==============================] - 2s 4ms/step - loss: -24.2771 - val_loss: -18.9261\n",
            "Epoch 57/100\n",
            "469/469 [==============================] - 2s 5ms/step - loss: -10.5382 - val_loss: -17.1651\n",
            "Epoch 58/100\n",
            "469/469 [==============================] - 2s 4ms/step - loss: -21.6312 - val_loss: -22.4633\n",
            "Epoch 59/100\n",
            "469/469 [==============================] - 2s 4ms/step - loss: -20.7919 - val_loss: -19.0504\n",
            "Epoch 60/100\n",
            "469/469 [==============================] - 2s 5ms/step - loss: -20.9496 - val_loss: -20.4510\n",
            "Epoch 61/100\n",
            "469/469 [==============================] - 2s 5ms/step - loss: -21.0505 - val_loss: -17.5483\n",
            "Epoch 62/100\n",
            "469/469 [==============================] - 2s 5ms/step - loss: -23.3749 - val_loss: -19.0325\n",
            "Epoch 63/100\n",
            "469/469 [==============================] - 2s 4ms/step - loss: -23.2126 - val_loss: -11.5788\n",
            "Epoch 64/100\n",
            "469/469 [==============================] - 2s 5ms/step - loss: -24.0638 - val_loss: -11.5400\n",
            "Epoch 65/100\n",
            "469/469 [==============================] - 2s 5ms/step - loss: -23.6899 - val_loss: -14.4019\n",
            "Epoch 66/100\n",
            "469/469 [==============================] - 2s 4ms/step - loss: -24.8405 - val_loss: 2.3323\n",
            "Epoch 67/100\n",
            "469/469 [==============================] - 2s 5ms/step - loss: -23.5074 - val_loss: -17.5431\n",
            "Epoch 68/100\n",
            "469/469 [==============================] - 2s 5ms/step - loss: -22.9679 - val_loss: -13.4981\n",
            "Epoch 69/100\n",
            "469/469 [==============================] - 2s 4ms/step - loss: -24.6443 - val_loss: -16.1466\n",
            "Epoch 70/100\n",
            "469/469 [==============================] - 2s 4ms/step - loss: -26.1470 - val_loss: -13.3359\n",
            "Epoch 71/100\n",
            "469/469 [==============================] - 2s 4ms/step - loss: -22.1786 - val_loss: -15.5559\n",
            "Epoch 72/100\n",
            "469/469 [==============================] - 2s 5ms/step - loss: -24.5463 - val_loss: -5.3297\n",
            "Epoch 73/100\n",
            "469/469 [==============================] - 2s 5ms/step - loss: -23.2099 - val_loss: -8.8513\n",
            "Epoch 74/100\n",
            "469/469 [==============================] - 2s 5ms/step - loss: -22.4427 - val_loss: -13.5994\n",
            "Epoch 75/100\n",
            "469/469 [==============================] - 2s 4ms/step - loss: -22.9664 - val_loss: -17.1012\n",
            "Epoch 76/100\n",
            "469/469 [==============================] - 2s 4ms/step - loss: -24.0015 - val_loss: -18.1574\n",
            "Epoch 77/100\n",
            "469/469 [==============================] - 2s 4ms/step - loss: -23.9451 - val_loss: -10.5380\n",
            "Epoch 78/100\n",
            "469/469 [==============================] - 2s 4ms/step - loss: -23.2910 - val_loss: -15.6560\n",
            "Epoch 79/100\n",
            "469/469 [==============================] - 2s 4ms/step - loss: -24.0808 - val_loss: -16.0185\n",
            "Epoch 80/100\n",
            "469/469 [==============================] - 2s 5ms/step - loss: -23.2194 - val_loss: -11.5181\n",
            "Epoch 81/100\n",
            "469/469 [==============================] - 2s 4ms/step - loss: -25.5228 - val_loss: -13.9117\n",
            "Epoch 82/100\n",
            "469/469 [==============================] - 2s 4ms/step - loss: -24.2562 - val_loss: -15.5011\n",
            "Epoch 83/100\n",
            "469/469 [==============================] - 2s 5ms/step - loss: -22.9293 - val_loss: -17.2912\n",
            "Epoch 84/100\n",
            "469/469 [==============================] - 2s 4ms/step - loss: -22.5999 - val_loss: -15.6929\n",
            "Epoch 85/100\n",
            "469/469 [==============================] - 2s 5ms/step - loss: -22.9224 - val_loss: -9.2317\n",
            "Epoch 86/100\n",
            "469/469 [==============================] - 2s 4ms/step - loss: -17.1816 - val_loss: -8.7650\n",
            "Epoch 87/100\n",
            "469/469 [==============================] - 2s 4ms/step - loss: -22.3298 - val_loss: 0.3120\n",
            "Epoch 88/100\n",
            "469/469 [==============================] - 2s 5ms/step - loss: -23.4269 - val_loss: -17.3746\n",
            "Epoch 89/100\n",
            "469/469 [==============================] - 2s 5ms/step - loss: -21.2477 - val_loss: -8.5075\n",
            "Epoch 90/100\n",
            "469/469 [==============================] - 2s 4ms/step - loss: -19.4395 - val_loss: 3.8990\n",
            "Epoch 91/100\n",
            "469/469 [==============================] - 2s 4ms/step - loss: -22.4884 - val_loss: 18.6690\n",
            "Epoch 92/100\n",
            "469/469 [==============================] - 2s 5ms/step - loss: -23.1521 - val_loss: 7.4455\n",
            "Epoch 93/100\n",
            "469/469 [==============================] - 2s 4ms/step - loss: -24.2578 - val_loss: 36.0624\n",
            "Epoch 94/100\n",
            "469/469 [==============================] - 2s 5ms/step - loss: -24.4632 - val_loss: -8.2758\n",
            "Epoch 95/100\n",
            "469/469 [==============================] - 2s 5ms/step - loss: -21.7409 - val_loss: -15.8248\n",
            "Epoch 96/100\n",
            "469/469 [==============================] - 2s 4ms/step - loss: -22.8034 - val_loss: -6.3381\n",
            "Epoch 97/100\n",
            "469/469 [==============================] - 2s 5ms/step - loss: -23.4215 - val_loss: -5.3213\n",
            "Epoch 98/100\n",
            "469/469 [==============================] - 2s 5ms/step - loss: -19.0351 - val_loss: -15.2097\n",
            "Epoch 99/100\n",
            "469/469 [==============================] - 2s 5ms/step - loss: -20.6211 - val_loss: 5.2719\n",
            "Epoch 100/100\n",
            "469/469 [==============================] - 2s 4ms/step - loss: -23.1206 - val_loss: 10.2745\n"
          ]
        }
      ]
    },
    {
      "cell_type": "markdown",
      "source": [
        "# **Plot loss**"
      ],
      "metadata": {
        "id": "XwMPsjsHopEx"
      }
    },
    {
      "cell_type": "code",
      "source": [
        "plt.figure(figsize=(10, 5))\n",
        "\n",
        "plt.plot(history.history['loss'])\n",
        "plt.plot(history.history['val_loss'])\n",
        "plt.show()"
      ],
      "metadata": {
        "colab": {
          "base_uri": "https://localhost:8080/",
          "height": 320
        },
        "id": "mkRKQxqXoijh",
        "outputId": "c8f95dfb-9b22-4d93-c4c4-d24f262879ce"
      },
      "execution_count": 8,
      "outputs": [
        {
          "output_type": "display_data",
          "data": {
            "text/plain": [
              "<Figure size 720x360 with 1 Axes>"
            ],
            "image/png": "[encoded data removed]"
          },
          "metadata": {
            "needs_background": "light"
          }
        }
      ]
    },
    {
      "cell_type": "markdown",
      "metadata": {
        "id": "7C7dsTO9ZHeT"
      },
      "source": [
        "# **Model prediction with MDN**"
      ]
    },
    {
      "cell_type": "code",
      "metadata": {
        "id": "syHuMw6wdGkO"
      },
      "source": [
        "y_test_out = model.predict(x_test)\n",
        "\n",
        "# y_samples - output from MDN, contains all information\n",
        "y_samples = np.apply_along_axis(mdn.sample_from_output, 1, y_test_out, OUTPUT_DIMS, N_MIXES, temp=1.0)\n",
        "\n",
        "\n"
      ],
      "execution_count": 9,
      "outputs": []
    },
    {
      "cell_type": "code",
      "metadata": {
        "id": "E2Nx4zG-dzDT"
      },
      "source": [
        "\n",
        "# Split up the mixture parameters (for future fun)\n",
        "# means of Gaussians\n",
        "mus = y_test_out[:,:N_MIXES*OUTPUT_DIMS]\n",
        "# sigmas of Gaussians\n",
        "sigs = y_test_out[:,N_MIXES*OUTPUT_DIMS:2*N_MIXES*OUTPUT_DIMS]\n",
        "#pis = mdn.softmax(y_test_out[:,-N_MIXES:], t=1.0)\n"
      ],
      "execution_count": 10,
      "outputs": []
    },
    {
      "cell_type": "code",
      "metadata": {
        "id": "7Q3RrnD-4d5r",
        "colab": {
          "base_uri": "https://localhost:8080/",
          "height": 1000
        },
        "outputId": "12e9a4a8-29ef-4096-dcb7-b60e06535c15"
      },
      "source": [
        "# use the model to predict the labels of the test data\n",
        "\n",
        "\n",
        "\n",
        "# Plot the prediction\n",
        "fig = plt.figure(figsize=(8, 30))  # figure size in inches\n",
        "fig.subplots_adjust(left=0, right=1, bottom=0, top=1, hspace=0.05, wspace=0.05)\n",
        "\n",
        "\n",
        "# plot the digits: each image is 28x28 pixels\n",
        "n_img=30\n",
        "for i in range(n_img):\n",
        "    ax = fig.add_subplot(n_img, 3, 3*i + 1, xticks=[], yticks=[])\n",
        "    ax.imshow(x_test[i].reshape(28,28), cmap=plt.cm.binary, interpolation='nearest')\n",
        "\n",
        "    ax = fig.add_subplot(n_img, 3, 3*i + 2, xticks=[0,1,2,3,4,5,6,7,8,9], yticks=[])\n",
        "    xbar = np.linspace(1, OUTPUT_DIMS, num=OUTPUT_DIMS)\n",
        "    ax.bar(xbar,mus[i],yerr=sigs[i],xerr=0.3,)\n",
        "    ax.axis('off')\n",
        "\n",
        "    ax = fig.add_subplot(n_img, 3, 3*i + 3, xticks=[0,1,2,3,4,5,6,7,8,9], yticks=[])\n",
        "    xbar = np.linspace(1, OUTPUT_DIMS, num=OUTPUT_DIMS)\n",
        "    ax.bar(xbar,y_test[i],yerr=0.0,xerr=0.3)\n",
        "    ax.axis('off')\n",
        "\n",
        "\n",
        "\n",
        "print(\"Average probability error = \",np.mean(sigs))    "
      ],
      "execution_count": 11,
      "outputs": [
        {
          "output_type": "stream",
          "name": "stdout",
          "text": [
            "Average probability error =  0.10393452\n"
          ]
        },
        {
          "output_type": "display_data",
          "data": {
            "text/plain": [
              "<Figure size 576x2160 with 90 Axes>"
            ],
            "image/png": "[encoded data removed]"
          },
          "metadata": {
            "needs_background": "light"
          }
        }
      ]
    }
  ]
}